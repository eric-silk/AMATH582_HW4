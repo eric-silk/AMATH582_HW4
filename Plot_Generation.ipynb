{
 "cells": [
  {
   "cell_type": "code",
   "execution_count": null,
   "metadata": {},
   "outputs": [],
   "source": [
    "import os\n",
    "import random  # Holds up spork\n",
    "import math\n",
    "import numpy as np\n",
    "import matplotlib.pyplot as plt\n",
    "import matplotlib.image as mpimg\n",
    "from PIL import Image\n",
    "\n",
    "CROPPED_DIR = \"data/CroppedYale\"\n",
    "UNCROPPED_DIR = \"data/yalefaces\""
   ]
  },
  {
   "cell_type": "code",
   "execution_count": null,
   "metadata": {},
   "outputs": [],
   "source": [
    "def get_all_files(parent_dir):\n",
    "    x = [i for i in os.walk(parent_dir)]\n",
    "    print(len(x))\n",
    "    subdirs = [i for i in x[1:]]\n",
    "    paths = []\n",
    "    for subdir in subdirs:\n",
    "        paths += [os.path.join(subdir[0], i) for i in subdir[2]]\n",
    "        \n",
    "    return paths\n",
    "\n",
    "def read_pgm(pgm):\n",
    "    return(np.asarray(Image.open(pgm)))\n",
    "\n",
    "def read_flat_pgm(pgm):\n",
    "    return np.ravel(np.asarray(Image.open(pgm)))\n",
    "\n",
    "def generate_data_matrix(folder):\n",
    "    files = get_all_files(folder)\n",
    "    image_shape = read_pgm(files[0]).shape  # assuming all the same dims\n",
    "    data_matrix = np.empty((image_shape[0]*image_shape[1], len(files)))\n",
    "    for col, pgm in enumerate(files):\n",
    "        data_matrix[:, col] = read_flat_pgm(pgm)\n",
    "        \n",
    "    return data_matrix\n",
    "\n",
    "def plot_singular_values(s):\n",
    "    fig = plt.figure()\n",
    "    ax1 = fig.add_subplot(211)\n",
    "    ax1.stem(s, use_line_collection=True)\n",
    "    ax1.title.set_text(\"Modal Energy\")\n",
    "    ax1.set_xlabel(\"Mode Number\")\n",
    "    ax1.set_ylabel(\"Mode Energy\")\n",
    "    \n",
    "    ax2 = fig.add_subplot(212)\n",
    "    ax2.stem(np.log(s), use_line_collection=True)\n",
    "    ax2.title.set_text(\"Log of Modal Energy\")\n",
    "    ax2.set_xlabel(\"Mode Number\")\n",
    "    ax2.set_ylabel(\"Mode Energy\")\n",
    "    \n",
    "def main(dirpath):\n",
    "    data_matrix = generate_data_matrix(dirpath)\n",
    "    u, s, vh = np.linalg.svd(data_matrix, full_matrices=False)\n",
    "    plot_singular_values(s)"
   ]
  },
  {
   "cell_type": "code",
   "execution_count": null,
   "metadata": {},
   "outputs": [],
   "source": [
    "main(CROPPED_DIR)"
   ]
  },
  {
   "cell_type": "code",
   "execution_count": null,
   "metadata": {},
   "outputs": [],
   "source": []
  }
 ],
 "metadata": {
  "kernelspec": {
   "display_name": "Python 3",
   "language": "python",
   "name": "python3"
  },
  "language_info": {
   "codemirror_mode": {
    "name": "ipython",
    "version": 3
   },
   "file_extension": ".py",
   "mimetype": "text/x-python",
   "name": "python",
   "nbconvert_exporter": "python",
   "pygments_lexer": "ipython3",
   "version": "3.7.4"
  }
 },
 "nbformat": 4,
 "nbformat_minor": 2
}
