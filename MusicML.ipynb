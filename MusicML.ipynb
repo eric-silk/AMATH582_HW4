{
 "cells": [
  {
   "cell_type": "code",
   "execution_count": 1,
   "metadata": {},
   "outputs": [],
   "source": [
    "import numpy as np\n",
    "import matplotlib.pyplot as plt\n",
    "import scipy.signal as sig\n",
    "import scipy.io.wavfile as wavfile\n",
    "import random\n",
    "import os\n",
    "import glob\n",
    "from sklearn.decomposition import PCA\n",
    "from sklearn.neighbors import KNeighborsClassifier\n",
    "from sklearn.model_selection import train_test_split\n",
    "from sklearn import metrics\n",
    "\n",
    "MASTER_FS = 44100"
   ]
  },
  {
   "cell_type": "code",
   "execution_count": 2,
   "metadata": {},
   "outputs": [
    {
     "data": {
      "text/plain": [
       "(9065784, 2)"
      ]
     },
     "execution_count": 2,
     "metadata": {},
     "output_type": "execute_result"
    }
   ],
   "source": [
    "fs, x = wavfile.read(\"music/Acoustic/andy_mckee_art_of_motion/Art_Of_Motion.wav\")\n",
    "x.shape"
   ]
  },
  {
   "cell_type": "code",
   "execution_count": 3,
   "metadata": {},
   "outputs": [],
   "source": [
    "def read_song(fname):\n",
    "    fs, x = wavfile.read(fname)\n",
    "    assert(x.shape[1] == 2)\n",
    "    assert(fs == MASTER_FS)  # If not true gonna have to resample\n",
    "    \n",
    "    return x\n",
    "\n",
    "def random_n_seconds(song, n, fs):\n",
    "    samples = x.shape[0]\n",
    "    snip_length = fs*n\n",
    "    index = random.randint(0, samples-snip_length)\n",
    "    return song[index:index+snip_length]\n",
    "\n",
    "def stereo_spectrogram(sample, fs):\n",
    "    f, t, sxx0 = sig.spectrogram(sample[:, 0], fs=fs)\n",
    "    _, _, sxx1 = sig.spectrogram(sample[:, 1], fs=fs)\n",
    "    \n",
    "    return (f, t, sxx0, sxx1)\n",
    "\n",
    "def flattened_spectrograms(sample, fs):\n",
    "    f, t, sxx0, sxx1 = stereo_spectrogram(sample, fs)\n",
    "    \n",
    "    return np.concatenate((np.ravel(sxx0), np.ravel(sxx1)))\n",
    "\n",
    "def svd_of_stacked_spectrograms(sxx0, sxx1):\n",
    "    data_matrix = np.vstack((sxx0, sxx1)).T\n",
    "    u, s, vh = np.linalg.svd(data_matrix, full_matrices=False)\n",
    "    \n",
    "    return u, s, vh\n",
    "\n",
    "def reconstruct_n_modes(u, s, vh, modes=None):\n",
    "    if modes is None:\n",
    "        modes = s.shape[0]\n",
    "        \n",
    "    print(\"u.shape: {}; vh.shape: {}\".format(u.shape, vh.shape))\n",
    "    s_diag = np.zeros((u.shape[0], vh.shape[0]))\n",
    "    s_diag[:u.shape[1], :u.shape[1]] = np.diag(s)\n",
    "    \n",
    "    return np.matmul(np.matmul(u[:,0:modes], s_diag[0:modes, 0:modes]), vh[0:modes, :]).T\n",
    "\n",
    "def keep_n_modes(u, s, vh, n):\n",
    "    return (u[:,:n], s[:n], vh[:n, :])\n",
    "\n",
    "def process_song(fname, label, num_samples):\n",
    "    x = read_song(fname)\n",
    "    samples = []\n",
    "    full_song = read_song(fname)\n",
    "    for i in range(num_samples):\n",
    "        samples.append(random_n_seconds(full_song, 5, MASTER_FS))\n",
    "        \n",
    "    return [(sample, label) for sample in samples]\n",
    "        "
   ]
  },
  {
   "cell_type": "markdown",
   "metadata": {},
   "source": [
    "# SVD\n",
    "##### As explained by Kesley Maass\n",
    "If we construct a data matrix $x$ such that\n",
    "$$X\\in \\mathbb{R}^{T\\times F}$$\n",
    "with T samples in F frequency bins,then taking the SVD will produce the following:\n",
    "$$U\\in \\mathbb{R}^{T\\times F}$$\n",
    "Each column of $U$ contains the displacement along a mode.\n",
    "$$\\Sigma \\in \\mathbb{R}^{F\\times F}$$\n",
    "Each diagonal will contain the singular values, ordering the relative \"importance\" of each mode.\n",
    "$$V \\in \\mathbb{R}^{F\\times F}$$\n",
    "will contain the \"directions\" (if in space) of the modes. These will correspond to the frequencies of each spectrogram here.\n",
    "\n",
    "We can then project the (new?) data onto the SVD basis by doing:\n",
    "$$U^{T}X$$\n",
    "and a lower rank approximation can be achieved by using only the top $k$ columns of U."
   ]
  },
  {
   "cell_type": "code",
   "execution_count": 4,
   "metadata": {},
   "outputs": [
    {
     "name": "stdout",
     "output_type": "stream",
     "text": [
      "441000\n",
      "Removed 11 entries for insufficient size.\n"
     ]
    }
   ],
   "source": [
    "# Band classification\n",
    "def sample_and_label(folder, label, samples):\n",
    "    files = glob.glob(folder+\"/*.wav\")\n",
    "    labeled_data = []\n",
    "    for f in files:\n",
    "        labeled_data = labeled_data + process_song(f, label, samples)\n",
    "        \n",
    "    return labeled_data\n",
    "\n",
    "labeled = []\n",
    "labeled += sample_and_label(\"music/Metal/monuments_the_amanuensis\", \"Monuments\", 30)\n",
    "labeled += sample_and_label(\"music/Acoustic/andy_mckee_art_of_motion\", \"Andy Mckee\", 30)\n",
    "labeled += sample_and_label(\"music/Jazz/herbie_hancock_headhunters\", \"Herbie Hancock\", 50)\n",
    "\n",
    "print(labeled[0][0].size)\n",
    "initial = len(labeled)\n",
    "labeled = [i for i in labeled if i[0].size == 441000]\n",
    "print(\"Removed {} entries for insufficient size.\".format(initial-len(labeled)))"
   ]
  },
  {
   "cell_type": "code",
   "execution_count": 5,
   "metadata": {},
   "outputs": [
    {
     "name": "stdout",
     "output_type": "stream",
     "text": [
      "969\n"
     ]
    }
   ],
   "source": [
    "print(len(labeled))"
   ]
  },
  {
   "cell_type": "code",
   "execution_count": 6,
   "metadata": {},
   "outputs": [],
   "source": [
    "labeled_spectrogram_vectors = [(flattened_spectrograms(i[0], MASTER_FS), i[1]) for i in labeled]\n",
    "del labeled"
   ]
  },
  {
   "cell_type": "code",
   "execution_count": 7,
   "metadata": {},
   "outputs": [
    {
     "data": {
      "text/plain": [
       "Text(0.5, 1.0, 'Monuments')"
      ]
     },
     "execution_count": 7,
     "metadata": {},
     "output_type": "execute_result"
    },
    {
     "data": {
      "image/png": "[encoded data removed]",
      "text/plain": [
       "<Figure size 432x288 with 1 Axes>"
      ]
     },
     "metadata": {
      "needs_background": "light"
     },
     "output_type": "display_data"
    }
   ],
   "source": [
    "plt.figure()\n",
    "plt.plot(labeled_spectrogram_vectors[2][0])\n",
    "plt.title(labeled_spectrogram_vectors[2][1])"
   ]
  },
  {
   "cell_type": "code",
   "execution_count": null,
   "metadata": {},
   "outputs": [],
   "source": [
    "#X = np.array([i[0] for i in labeled_spectrogram_vectors])\n",
    "nom = labeled_spectrogram_vectors[0]\n",
    "X = np.zeros((len(labeled_spectrogram_vectors), nom[0].size))\n",
    "for i in range(len(labeled_spectrogram_vectors)):\n",
    "    try:\n",
    "        X[i, :] = labeled_spectrogram_vectors[i][0]\n",
    "    except ValueError:\n",
    "        print(\"Failed on entry {}\".format(i))\n",
    "\n",
    "y = np.array([i[1] for i in labeled_spectrogram_vectors])\n",
    "\n",
    "X_train, X_test, y_train, y_test = train_test_split(X, y, test_size=0.2)\n",
    "del labeled_spectrogram_vectors  # Forcibly free this\n",
    "del X\n",
    "\n",
    "# Do dem pee-see-eyyys\n",
    "pca = PCA(n_components=100)\n",
    "X_train = pca.fit_transform(X_train)\n",
    "X_test = pca.fit_transform(X_test)\n",
    "\n",
    "print(X_train.shape)\n",
    "\n",
    "neigh = KNeighborsClassifier(n_neighbors=5)\n",
    "band_classifier = neigh.fit(X_train, y_train)"
   ]
  },
  {
   "cell_type": "code",
   "execution_count": null,
   "metadata": {},
   "outputs": [],
   "source": [
    "predicted = neigh.predict(X_test)\n",
    "report = metrics.classification_report(y_test, predicted)\n",
    "print(report)"
   ]
  },
  {
   "cell_type": "code",
   "execution_count": null,
   "metadata": {},
   "outputs": [],
   "source": [
    "print(X_train.shape)"
   ]
  },
  {
   "cell_type": "code",
   "execution_count": null,
   "metadata": {},
   "outputs": [],
   "source": []
  }
 ],
 "metadata": {
  "kernelspec": {
   "display_name": "Python 3",
   "language": "python",
   "name": "python3"
  },
  "language_info": {
   "codemirror_mode": {
    "name": "ipython",
    "version": 3
   },
   "file_extension": ".py",
   "mimetype": "text/x-python",
   "name": "python",
   "nbconvert_exporter": "python",
   "pygments_lexer": "ipython3",
   "version": "3.7.3"
  }
 },
 "nbformat": 4,
 "nbformat_minor": 2
}
