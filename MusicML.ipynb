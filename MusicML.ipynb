{
 "cells": [
  {
   "cell_type": "code",
   "execution_count": null,
   "metadata": {},
   "outputs": [],
   "source": [
    "import numpy as np\n",
    "import matplotlib.pyplot as plt\n",
    "import scipy.signal as sig\n",
    "import scipy.io.wavfile as wavfile\n",
    "import random\n",
    "\n",
    "MASTER_FS = 44100"
   ]
  },
  {
   "cell_type": "code",
   "execution_count": null,
   "metadata": {},
   "outputs": [],
   "source": [
    "fs, x = wavfile.read(\"music/Acoustic/andy_mckee_art_of_motion/Art_Of_Motion.wav\")\n",
    "x.shape"
   ]
  },
  {
   "cell_type": "code",
   "execution_count": null,
   "metadata": {},
   "outputs": [],
   "source": [
    "def read_song(fname):\n",
    "    fs, x = wavfile.read(fname)\n",
    "    assert(x.shape[1] == 2)\n",
    "    assert(fs == MASTER_FS)  # If not true gonna have to resample\n",
    "    \n",
    "    return x\n",
    "\n",
    "def random_n_seconds(song, n, fs):\n",
    "    samples = x.shape[0]\n",
    "    snip_length = fs*n\n",
    "    index = random.randint(0, samples-snip_length)\n",
    "    return song[index:index+snip_length]\n",
    "\n",
    "def n_sec_spectrogram(song, n, fs):\n",
    "    sample = random_n_seconds(song, n, fs)\n",
    "    f, t, sxx0 = sig.spectrogram(sample[:, 0], fs=fs)\n",
    "    _, _, sxx1 = sig.spectrogram(sample[:, 1], fs=fs)\n",
    "    \n",
    "    return (f, t, sxx0, sxx1)\n",
    "\n",
    "def svd_of_stacked_spectrograms(sxx0, sxx1):\n",
    "    data_matrix = np.vstack((sxx0, sxx1)).T\n",
    "    u, s, vh = np.linalg.svd(data_matrix, full_matrices=False)\n",
    "    \n",
    "    return u, s, vh\n",
    "\n",
    "def reconstruct_n_modes(u, s, vh, modes=None):\n",
    "    if modes is None:\n",
    "        modes = s.shape[0]\n",
    "        \n",
    "    print(\"u.shape: {}; vh.shape: {}\".format(u.shape, vh.shape))\n",
    "    s_diag = np.zeros((u.shape[0], vh.shape[0]))\n",
    "    s_diag[:u.shape[1], :u.shape[1]] = np.diag(s)\n",
    "    \n",
    "    return np.matmul(np.matmul(u[:,0:modes], s_diag[0:modes, 0:modes]), vh[0:modes, :]).T\n",
    "\n",
    "def keep_n_modes(u, s, vh, n):\n",
    "    return (u[:,:n], s[:n], vh[:n, :])\n",
    "\n",
    "def process_song(fname, label, num_samples, modes_to_keep):\n",
    "    x = read_song(fname)\n",
    "    samples = []\n",
    "    full_song = read_song(fname)\n",
    "    for i in range(num_samples):\n",
    "        samples.append(random_n_seconds(full_song, 5, MASTER_FS))\n",
    "        \n",
    "    return {\"label\": label, \"samples\": samples}\n",
    "        "
   ]
  },
  {
   "cell_type": "code",
   "execution_count": null,
   "metadata": {},
   "outputs": [],
   "source": [
    "f, t, sxx0, sxx1 = n_sec_spectrogram(x, 10, 44100)\n",
    "print(sxx0.shape)\n",
    "stacked = np.vstack((sxx0, sxx1))\n",
    "print(stacked.shape)\n",
    "print(stacked.T.shape)\n",
    "\n",
    "# Rows are Frequency observation\n",
    "# Columns are time"
   ]
  },
  {
   "cell_type": "code",
   "execution_count": null,
   "metadata": {},
   "outputs": [],
   "source": [
    "u, s, vh = svd_of_stacked_spectrograms(sxx0, sxx1)\n",
    "print(u.shape)\n",
    "print(s.shape)\n",
    "print(vh.shape)"
   ]
  },
  {
   "cell_type": "markdown",
   "metadata": {},
   "source": [
    "# SVD\n",
    "##### As explained by Kesley Maass\n",
    "If we construct a data matrix $x$ such that\n",
    "$$X\\in \\mathbb{R}^{T\\times F}$$\n",
    "with T samples in F frequency bins,then taking the SVD will produce the following:\n",
    "$$U\\in \\mathbb{R}^{T\\times F}$$\n",
    "Each column of $U$ contains the displacement along a mode.\n",
    "$$\\Sigma \\in \\mathbb{R}^{F\\times F}$$\n",
    "Each diagonal will contain the singular values, ordering the relative \"importance\" of each mode.\n",
    "$$V \\in \\mathbb{R}^{F\\times F}$$\n",
    "will contain the \"directions\" (if in space) of the modes. These will correspond to the frequencies of each spectrogram here.\n",
    "\n",
    "We can then project the (new?) data onto the SVD basis by doing:\n",
    "$$U^{T}X$$\n",
    "and a lower rank approximation can be achieved by using only the top $k$ columns of U."
   ]
  },
  {
   "cell_type": "code",
   "execution_count": null,
   "metadata": {},
   "outputs": [],
   "source": [
    "plt.figure()\n",
    "plt.stem(s)\n",
    "plt.show()\n",
    "plt.figure()\n",
    "plt.stem(np.log(s))\n",
    "plt.show()"
   ]
  },
  {
   "cell_type": "code",
   "execution_count": null,
   "metadata": {},
   "outputs": [],
   "source": [
    "plt.figure()\n",
    "plt.title(\"Original\")\n",
    "plt.pcolormesh(np.log(stacked))\n",
    "recon = keep_n_modes(u, s, vh)\n",
    "plt.figure()\n",
    "plt.title(\"Recon, all modes\")\n",
    "plt.pcolormesh(np.log(recon))\n",
    "print(\"{} modes shape: {}\".format(n, recon.shape))\n",
    "plt.figure()\n",
    "n = 200\n",
    "plt.title(\"Recon, {} modes\".format(n))\n",
    "recon = keep_n_modes(u, s, vh, modes=n)\n",
    "print(\"{} modes shape: {}\".format(n, recon.shape))\n",
    "plt.pcolormesh(np.log(recon))\n",
    "plt.figure()\n",
    "n = 10\n",
    "plt.title(\"Recon, {} modes\".format(n))\n",
    "recon = keep_n_modes(u, s, vh, modes=n)\n",
    "print(\"{} modes shape: {}\".format(n, recon.shape))\n",
    "plt.pcolormesh(np.log(recon))"
   ]
  },
  {
   "cell_type": "code",
   "execution_count": null,
   "metadata": {},
   "outputs": [],
   "source": []
  }
 ],
 "metadata": {
  "kernelspec": {
   "display_name": "Python 3",
   "language": "python",
   "name": "python3"
  },
  "language_info": {
   "codemirror_mode": {
    "name": "ipython",
    "version": 3
   },
   "file_extension": ".py",
   "mimetype": "text/x-python",
   "name": "python",
   "nbconvert_exporter": "python",
   "pygments_lexer": "ipython3",
   "version": "3.7.3"
  }
 },
 "nbformat": 4,
 "nbformat_minor": 2
}
