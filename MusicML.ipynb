{
 "cells": [
  {
   "cell_type": "code",
   "execution_count": null,
   "metadata": {},
   "outputs": [],
   "source": [
    "import numpy as np\n",
    "import matplotlib.pyplot as plt\n",
    "import scipy.signal as sig\n",
    "import scipy.io.wavfile as wavfile\n",
    "import random\n",
    "\n",
    "MASTER_FS = 44100"
   ]
  },
  {
   "cell_type": "code",
   "execution_count": null,
   "metadata": {},
   "outputs": [],
   "source": [
    "fs, x = wavfile.read(\"music/band_classification/andy_mckee_into_the_ocean.wav\")\n",
    "x.shape"
   ]
  },
  {
   "cell_type": "code",
   "execution_count": null,
   "metadata": {},
   "outputs": [],
   "source": [
    "def read_song(fname):\n",
    "    fs, x = wavfile.read(fname)\n",
    "    assert(x.shape[1] == 2)\n",
    "    assert(fs == MASTER_FS)  # If not true gonna have to resample\n",
    "    \n",
    "    return x\n",
    "\n",
    "def random_five_seconds(song, fs):\n",
    "    samples = x.shape[0]\n",
    "    snip_length = fs*5\n",
    "    index = random.randint(0, samples-snip_length)\n",
    "    return song[index:index+snip_length]\n",
    "\n",
    "def five_sec_spectrogram(song, fs):\n",
    "    sample = random_five_seconds(song, fs)\n",
    "    f, t, sxx0 = sig.spectrogram(sample[:, 0], fs=fs)\n",
    "    _, _, sxx1 = sig.spectrogram(sample[:, 1], fs=fs)\n",
    "    \n",
    "    return (f, t, sxx0, sxx1)\n",
    "\n",
    "def svd_of_stacked_spectrograms(sxx0, sxx1):\n",
    "    # We want time to progress by row\n",
    "    # So we want to transpose and hstack?\n",
    "    data_matrix = np.hstack((sxx0.T, sxx1.T))\n",
    "    u, s, vh = np.linalg.svd(data_matrix, full_matrices=False)\n",
    "    \n",
    "    return u, s, vh"
   ]
  },
  {
   "cell_type": "code",
   "execution_count": null,
   "metadata": {},
   "outputs": [],
   "source": [
    "f, t, sxx0, sxx1 = five_sec_spectrogram(x, 44100)\n",
    "sxx0.T.shape\n",
    "plt.figure()"
   ]
  },
  {
   "cell_type": "code",
   "execution_count": null,
   "metadata": {},
   "outputs": [],
   "source": [
    "svd_of_stacked_spectrograms(sxx0, sxx1)"
   ]
  },
  {
   "cell_type": "code",
   "execution_count": null,
   "metadata": {},
   "outputs": [],
   "source": []
  }
 ],
 "metadata": {
  "kernelspec": {
   "display_name": "Python 3",
   "language": "python",
   "name": "python3"
  },
  "language_info": {
   "codemirror_mode": {
    "name": "ipython",
    "version": 3
   },
   "file_extension": ".py",
   "mimetype": "text/x-python",
   "name": "python",
   "nbconvert_exporter": "python",
   "pygments_lexer": "ipython3",
   "version": "3.7.3"
  }
 },
 "nbformat": 4,
 "nbformat_minor": 2
}
