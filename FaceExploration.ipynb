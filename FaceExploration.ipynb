{
 "cells": [
  {
   "cell_type": "code",
   "execution_count": null,
   "metadata": {},
   "outputs": [],
   "source": [
    "import os\n",
    "import numpy as np\n",
    "import matplotlib.pyplot as plt\n",
    "import matplotlib.image as mpimg\n",
    "from PIL import Image\n",
    "\n",
    "CROPPED_DIR = \"data/CroppedYale\"\n",
    "UNCROPPED_DIR = \"data/yalefaces\""
   ]
  },
  {
   "cell_type": "code",
   "execution_count": null,
   "metadata": {},
   "outputs": [],
   "source": [
    "def get_all_files(parent_dir):\n",
    "    x = [i for i in os.walk(parent_dir)]\n",
    "    print(len(x))\n",
    "    subdirs = [i for i in x[1:]]\n",
    "    paths = []\n",
    "    for subdir in subdirs:\n",
    "        paths += [os.path.join(subdir[0], i) for i in subdir[2]]\n",
    "        \n",
    "    return paths\n",
    "        \n",
    "cropped = get_all_files(CROPPED_DIR)\n",
    "original = len(cropped)\n",
    "cropped = [i for i in cropped if \"bad\" not in i]\n",
    "print(\"{} \\\"*.bad\\\" files removed.\".format(original - len(cropped)))"
   ]
  },
  {
   "cell_type": "code",
   "execution_count": null,
   "metadata": {},
   "outputs": [],
   "source": [
    "def read_pgm(pgm):\n",
    "    return(np.asarray(Image.open(pgm)))\n",
    "\n",
    "def read_flat_pgm(pgm):\n",
    "    return np.ravel(np.asarray(Image.open(pgm)))"
   ]
  },
  {
   "cell_type": "code",
   "execution_count": null,
   "metadata": {},
   "outputs": [],
   "source": [
    "read_pgm(cropped[0])"
   ]
  },
  {
   "cell_type": "code",
   "execution_count": null,
   "metadata": {
    "scrolled": false
   },
   "outputs": [],
   "source": [
    "x = read_flat_pgm(cropped[0])"
   ]
  },
  {
   "cell_type": "code",
   "execution_count": null,
   "metadata": {
    "scrolled": true
   },
   "outputs": [],
   "source": [
    "x.shape"
   ]
  },
  {
   "cell_type": "code",
   "execution_count": null,
   "metadata": {},
   "outputs": [],
   "source": [
    "y = read_flat_pgm(cropped[1])"
   ]
  },
  {
   "cell_type": "code",
   "execution_count": null,
   "metadata": {},
   "outputs": [],
   "source": [
    "np.vstack((x,y)).shape"
   ]
  },
  {
   "cell_type": "code",
   "execution_count": null,
   "metadata": {},
   "outputs": [],
   "source": []
  }
 ],
 "metadata": {
  "kernelspec": {
   "display_name": "Python 3",
   "language": "python",
   "name": "python3"
  },
  "language_info": {
   "codemirror_mode": {
    "name": "ipython",
    "version": 3
   },
   "file_extension": ".py",
   "mimetype": "text/x-python",
   "name": "python",
   "nbconvert_exporter": "python",
   "pygments_lexer": "ipython3",
   "version": "3.7.3"
  }
 },
 "nbformat": 4,
 "nbformat_minor": 4
}
