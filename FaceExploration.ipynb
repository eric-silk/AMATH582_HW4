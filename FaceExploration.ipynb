{
 "cells": [
  {
   "cell_type": "code",
   "execution_count": null,
   "metadata": {},
   "outputs": [],
   "source": [
    "import os\n",
    "import random  # Holds up spork\n",
    "import math\n",
    "import numpy as np\n",
    "import matplotlib.pyplot as plt\n",
    "import matplotlib.image as mpimg\n",
    "from PIL import Image\n",
    "\n",
    "CROPPED_DIR = \"data/CroppedYale\"\n",
    "UNCROPPED_DIR = \"data/yalefaces\""
   ]
  },
  {
   "cell_type": "code",
   "execution_count": null,
   "metadata": {},
   "outputs": [],
   "source": [
    "def get_all_files(parent_dir):\n",
    "    x = [i for i in os.walk(parent_dir)]\n",
    "    print(len(x))\n",
    "    subdirs = [i for i in x[1:]]\n",
    "    paths = []\n",
    "    for subdir in subdirs:\n",
    "        paths += [os.path.join(subdir[0], i) for i in subdir[2]]\n",
    "        \n",
    "    return paths\n",
    "        \n",
    "cropped = get_all_files(CROPPED_DIR)\n",
    "original = len(cropped)\n",
    "cropped = [i for i in cropped if \"bad\" not in i]\n",
    "print(\"{} \\\"*.bad\\\" files removed.\".format(original - len(cropped)))"
   ]
  },
  {
   "cell_type": "code",
   "execution_count": null,
   "metadata": {},
   "outputs": [],
   "source": [
    "def read_pgm(pgm):\n",
    "    with Image.open(pgm) as f:\n",
    "        return np.asarray(f)\n",
    "\n",
    "def read_flat_pgm(pgm):\n",
    "    return np.ravel(np.asarray(Image.open(pgm)))"
   ]
  },
  {
   "cell_type": "code",
   "execution_count": null,
   "metadata": {},
   "outputs": [],
   "source": [
    "read_pgm(cropped[0])\n",
    "image_shape = read_pgm(cropped[0]).shape\n",
    "print(\"Image Shape: {}\".format(image_shape))"
   ]
  },
  {
   "cell_type": "code",
   "execution_count": null,
   "metadata": {
    "scrolled": false
   },
   "outputs": [],
   "source": [
    "x = read_flat_pgm(cropped[0])"
   ]
  },
  {
   "cell_type": "code",
   "execution_count": null,
   "metadata": {
    "scrolled": true
   },
   "outputs": [],
   "source": [
    "x.shape"
   ]
  },
  {
   "cell_type": "code",
   "execution_count": null,
   "metadata": {},
   "outputs": [],
   "source": [
    "y = read_flat_pgm(cropped[1])"
   ]
  },
  {
   "cell_type": "code",
   "execution_count": null,
   "metadata": {},
   "outputs": [],
   "source": [
    "np.vstack((x,y)).shape"
   ]
  },
  {
   "cell_type": "code",
   "execution_count": null,
   "metadata": {},
   "outputs": [],
   "source": [
    "data_matrix = np.empty((x.shape[0], len(cropped)))\n",
    "for col, pgm in enumerate(cropped):\n",
    "    data_matrix[:, col] = read_flat_pgm(pgm)\n",
    "\n",
    "# Sanity Check\n",
    "i = random.randint(0, len(cropped))\n",
    "assert(data_matrix[:, i].all() == read_flat_pgm(cropped[i]).all())"
   ]
  },
  {
   "cell_type": "code",
   "execution_count": null,
   "metadata": {},
   "outputs": [],
   "source": [
    "u, s, vh = np.linalg.svd(data_matrix, full_matrices=False)"
   ]
  },
  {
   "cell_type": "code",
   "execution_count": null,
   "metadata": {},
   "outputs": [],
   "source": [
    "plt.figure()\n",
    "plt.stem(s, use_line_collection=True)\n",
    "plt.title(\"Modal Energy\")\n",
    "plt.xlabel(\"Mode Number\")\n",
    "plt.ylabel(\"Mode Energy\")\n",
    "\n",
    "plt.figure()\n",
    "plt.stem(np.log(s), use_line_collection=True)\n",
    "plt.title(\"Log of Modal Energy\")\n",
    "plt.xlabel(\"Mode Number\")\n",
    "plt.ylabel(\"Mode Energy\")"
   ]
  },
  {
   "cell_type": "code",
   "execution_count": null,
   "metadata": {},
   "outputs": [],
   "source": [
    "def reconstruction(u, s, vh, modes=None):\n",
    "    if modes is None:\n",
    "        modes = s.shape[0]\n",
    "        \n",
    "    print(\"u.shape: {}; vh.shape: {}\".format(u.shape, vh.shape))\n",
    "    s_diag = np.zeros((u.shape[0], vh.shape[0]))\n",
    "    s_diag[:u.shape[1], :u.shape[1]] = np.diag(s)\n",
    "    \n",
    "    return np.matmul(np.matmul(u[:,0:modes], s_diag[0:modes, 0:modes]), vh[0:modes, :])\n",
    "\n",
    "def svd_and_reconstruction(data_matrix, modes=None):\n",
    "    u, s, vh = np.linalg.svd(data_matrix, full_matrices=False)\n",
    "    return reconstruction(u, s, vh, modes=modes)"
   ]
  },
  {
   "cell_type": "code",
   "execution_count": null,
   "metadata": {},
   "outputs": [],
   "source": [
    "def show_reduced_image_plt(reduced_dataset, index):\n",
    "    img = np.reshape(reduced_dataset[:, index], image_shape)\n",
    "    plt.figure()\n",
    "    plt.imshow(img, cmap=\"gray\")\n",
    "    plt.show()\n",
    "    \n",
    "def show_reduced_image_pil(reduced_dataset, index):\n",
    "    img = np.reshape(reduced_dataset[:, index], image_shape)\n",
    "    tmp = Image.fromarray(img)\n",
    "    tmp.show()"
   ]
  },
  {
   "cell_type": "code",
   "execution_count": null,
   "metadata": {},
   "outputs": [],
   "source": [
    "recon = reconstruction(u, s, vh, modes=1)\n",
    "show_reduced_image_plt(recon, 127)"
   ]
  },
  {
   "cell_type": "code",
   "execution_count": null,
   "metadata": {},
   "outputs": [],
   "source": [
    "def mode_subplots(u, s, vh, image_index, mode_list):\n",
    "    mode_list = list(set(mode_list))  # remove dupes\n",
    "    mode_list = [i for i in mode_list if i > 0]\n",
    "    mode_list.sort()\n",
    "    num_images = len(mode_list)\n",
    "    SUBPLOT_COLS = 2\n",
    "    subplot_rows = math.ceil(num_images)\n",
    "    \n",
    "    fig = plt.figure(figsize=(10,10))\n",
    "    fig.subplots_adjust(wspace=0.01, hspace=0.1)\n",
    "    #fig.tight_layout()\n",
    "    for i in range(num_images):\n",
    "        ax = fig.add_subplot(subplot_rows, SUBPLOT_COLS, i+1)\n",
    "        ax.title.set_text(\"Modes: {}\".format(mode_list[i]))\n",
    "        recon = reconstruction(u, s, vh, mode_list[i])\n",
    "        img = np.reshape(recon[:, image_index], image_shape)\n",
    "        ax.imshow(img, cmap=\"gray\")"
   ]
  },
  {
   "cell_type": "code",
   "execution_count": null,
   "metadata": {
    "scrolled": false
   },
   "outputs": [],
   "source": [
    "modes_to_plot = [1, 10, 100, 1000]\n",
    "images_to_plot = [0, 100, 127, 255, 583]\n",
    "images_to_plot = [127]\n",
    "\n",
    "for i in images_to_plot:\n",
    "    mode_subplots(u, s, vh, i, modes_to_plot)\n"
   ]
  },
  {
   "cell_type": "code",
   "execution_count": null,
   "metadata": {},
   "outputs": [],
   "source": []
  },
  {
   "cell_type": "code",
   "execution_count": null,
   "metadata": {},
   "outputs": [],
   "source": []
  }
 ],
 "metadata": {
  "kernelspec": {
   "display_name": "Python 3",
   "language": "python",
   "name": "python3"
  },
  "language_info": {
   "codemirror_mode": {
    "name": "ipython",
    "version": 3
   },
   "file_extension": ".py",
   "mimetype": "text/x-python",
   "name": "python",
   "nbconvert_exporter": "python",
   "pygments_lexer": "ipython3",
   "version": "3.7.4"
  }
 },
 "nbformat": 4,
 "nbformat_minor": 4
}
