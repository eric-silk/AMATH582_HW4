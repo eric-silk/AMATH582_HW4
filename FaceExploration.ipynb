{
 "cells": [
  {
   "cell_type": "code",
   "execution_count": null,
   "metadata": {},
   "outputs": [],
   "source": [
    "import os\n",
    "import random  # Holds up spork\n",
    "import numpy as np\n",
    "import matplotlib.pyplot as plt\n",
    "import matplotlib.image as mpimg\n",
    "from PIL import Image\n",
    "\n",
    "CROPPED_DIR = \"data/CroppedYale\"\n",
    "UNCROPPED_DIR = \"data/yalefaces\""
   ]
  },
  {
   "cell_type": "code",
   "execution_count": null,
   "metadata": {},
   "outputs": [],
   "source": [
    "def get_all_files(parent_dir):\n",
    "    x = [i for i in os.walk(parent_dir)]\n",
    "    print(len(x))\n",
    "    subdirs = [i for i in x[1:]]\n",
    "    paths = []\n",
    "    for subdir in subdirs:\n",
    "        paths += [os.path.join(subdir[0], i) for i in subdir[2]]\n",
    "        \n",
    "    return paths\n",
    "        \n",
    "cropped = get_all_files(CROPPED_DIR)\n",
    "original = len(cropped)\n",
    "cropped = [i for i in cropped if \"bad\" not in i]\n",
    "print(\"{} \\\"*.bad\\\" files removed.\".format(original - len(cropped)))"
   ]
  },
  {
   "cell_type": "code",
   "execution_count": null,
   "metadata": {},
   "outputs": [],
   "source": [
    "def read_pgm(pgm):\n",
    "    return(np.asarray(Image.open(pgm)))\n",
    "\n",
    "def read_flat_pgm(pgm):\n",
    "    return np.ravel(np.asarray(Image.open(pgm)))"
   ]
  },
  {
   "cell_type": "code",
   "execution_count": null,
   "metadata": {},
   "outputs": [],
   "source": [
    "read_pgm(cropped[0])\n",
    "image_shape = read_pgm(cropped[0]).shape\n",
    "print(\"Image Shape: {}\".format(image_shape))"
   ]
  },
  {
   "cell_type": "code",
   "execution_count": null,
   "metadata": {
    "scrolled": false
   },
   "outputs": [],
   "source": [
    "x = read_flat_pgm(cropped[0])"
   ]
  },
  {
   "cell_type": "code",
   "execution_count": null,
   "metadata": {
    "scrolled": true
   },
   "outputs": [],
   "source": [
    "x.shape"
   ]
  },
  {
   "cell_type": "code",
   "execution_count": null,
   "metadata": {},
   "outputs": [],
   "source": [
    "y = read_flat_pgm(cropped[1])"
   ]
  },
  {
   "cell_type": "code",
   "execution_count": null,
   "metadata": {},
   "outputs": [],
   "source": [
    "np.vstack((x,y)).shape"
   ]
  },
  {
   "cell_type": "code",
   "execution_count": null,
   "metadata": {},
   "outputs": [],
   "source": [
    "data_matrix = np.empty((x.shape[0], len(cropped)))\n",
    "for col, pgm in enumerate(cropped):\n",
    "    data_matrix[:, col] = read_flat_pgm(pgm)\n",
    "\n",
    "# Sanity Check\n",
    "i = random.randint(0, len(cropped))\n",
    "assert(data_matrix[:, i].all() == read_flat_pgm(cropped[i]).all())"
   ]
  },
  {
   "cell_type": "code",
   "execution_count": null,
   "metadata": {},
   "outputs": [],
   "source": [
    "def svd_and_reconstruction(data_matrix, modes=None):\n",
    "    u, s, vh = np.linalg.svd(data_matrix, full_matrices=False)\n",
    "    if modes is None:\n",
    "        modes = s.shape[0]\n",
    "        \n",
    "    print(\"u.shape: {}; vh.shape: {}\".format(u.shape, vh.shape))\n",
    "    s_diag = np.zeros((u.shape[0], vh.shape[0]))\n",
    "    s_diag[:u.shape[1], :u.shape[1]] = np.diag(s)\n",
    "    \n",
    "    return np.matmul(np.matmul(u[:,0:modes], s_diag[0:modes, 0:modes]), vh[0:modes, :])\n",
    "\n",
    "def reconstruction(u, s, vh, modes=None):\n",
    "    if modes is None:\n",
    "        modes = s.shape[0]\n",
    "        \n",
    "    print(\"u.shape: {}; vh.shape: {}\".format(u.shape, vh.shape))\n",
    "    s_diag = np.zeros((u.shape[0], vh.shape[0]))\n",
    "    s_diag[:u.shape[1], :u.shape[1]] = np.diag(s)\n",
    "    \n",
    "    return np.matmul(np.matmul(u[:,0:modes], s_diag[0:modes, 0:modes]), vh[0:modes, :])"
   ]
  },
  {
   "cell_type": "code",
   "execution_count": null,
   "metadata": {},
   "outputs": [],
   "source": [
    "one_mode = svd_and_reconstruction(data_matrix, modes=1)"
   ]
  },
  {
   "cell_type": "code",
   "execution_count": null,
   "metadata": {},
   "outputs": [],
   "source": [
    "img = one_mode[:, 0]\n",
    "img = np.reshape(img, image_shape)"
   ]
  },
  {
   "cell_type": "code",
   "execution_count": null,
   "metadata": {},
   "outputs": [],
   "source": [
    "Image.fromarray(img).show()"
   ]
  },
  {
   "cell_type": "code",
   "execution_count": null,
   "metadata": {},
   "outputs": [],
   "source": [
    "def show_reduced_image(reduced_dataset, index):\n",
    "    img = np.reshape(reduced_dataset[:, index], image_shape)\n",
    "    tmp = Image.fromarray(img)\n",
    "    tmp.show()\n",
    "    tmp.close()\n",
    "    "
   ]
  },
  {
   "cell_type": "code",
   "execution_count": null,
   "metadata": {},
   "outputs": [],
   "source": [
    "show_reduced_image(one_mode, 0)"
   ]
  },
  {
   "cell_type": "code",
   "execution_count": null,
   "metadata": {},
   "outputs": [],
   "source": [
    "two_modes = svd_and_reconstruction(data_matrix, modes=2)\n",
    "show_reduced_image(two_modes, 0)"
   ]
  },
  {
   "cell_type": "code",
   "execution_count": null,
   "metadata": {},
   "outputs": [],
   "source": [
    "three_modes = svd_and_reconstruction(data_matrix, modes=3)\n",
    "show_reduced_image(three_modes, 0)"
   ]
  },
  {
   "cell_type": "code",
   "execution_count": null,
   "metadata": {},
   "outputs": [],
   "source": [
    "all_modes = svd_and_reconstruction(data_matrix, 2414)\n",
    "show_reduced_image(all_modes, 1)"
   ]
  },
  {
   "cell_type": "code",
   "execution_count": null,
   "metadata": {},
   "outputs": [],
   "source": [
    "show_reduced_image(all_modes, 123)\n",
    "show_reduced_image(one_mode, 123)\n",
    "show_reduced_image(two_modes, 123)\n",
    "show_reduced_image(three_modes, 123)"
   ]
  },
  {
   "cell_type": "code",
   "execution_count": null,
   "metadata": {},
   "outputs": [],
   "source": []
  }
 ],
 "metadata": {
  "kernelspec": {
   "display_name": "Python 3",
   "language": "python",
   "name": "python3"
  },
  "language_info": {
   "codemirror_mode": {
    "name": "ipython",
    "version": 3
   },
   "file_extension": ".py",
   "mimetype": "text/x-python",
   "name": "python",
   "nbconvert_exporter": "python",
   "pygments_lexer": "ipython3",
   "version": "3.7.3"
  }
 },
 "nbformat": 4,
 "nbformat_minor": 4
}
